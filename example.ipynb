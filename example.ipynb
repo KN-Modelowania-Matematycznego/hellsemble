{
 "cells": [
  {
   "cell_type": "code",
   "execution_count": 2,
   "metadata": {},
   "outputs": [],
   "source": [
    "import numpy as np\n",
    "\n",
    "from sklearn.datasets import make_classification\n",
    "from sklearn.linear_model import LogisticRegression\n",
    "\n",
    "from hellsemble import Hellsemble\n",
    "from hellsemble.estimator_generator import PredefinedEstimatorsGenerator\n",
    "from hellsemble.prediction_generator import FixedThresholdPredictionGenerator\n",
    "\n",
    "from test.resources.data_generator import Data\n",
    "\n",
    "from sklearn.tree import DecisionTreeClassifier\n",
    "from sklearn.neural_network import MLPClassifier\n",
    "from sklearn.model_selection import train_test_split\n",
    "from sklearn.metrics import accuracy_score\n",
    "\n",
    "from sklearn.svm import SVC\n",
    "from sklearn.neighbors import KNeighborsClassifier"
   ]
  },
  {
   "cell_type": "code",
   "execution_count": 3,
   "metadata": {},
   "outputs": [],
   "source": [
    "data = Data()\n",
    "\n",
    "data.add_segment(n_features=3, n_observations=3000, type=\"linear\", shuffle=False)\n",
    "data.add_segment(n_features=3, n_observations=1000, type=\"non-linear\", shuffle=False)\n",
    "data.add_segment(n_features=3, n_observations=5000, type='complex', shuffle=False)\n",
    "data.add_segment(n_features=3, n_observations=1000, type='imbalanced', shuffle=False)"
   ]
  },
  {
   "cell_type": "code",
   "execution_count": 4,
   "metadata": {},
   "outputs": [],
   "source": [
    "#data.plot_segments()"
   ]
  },
  {
   "cell_type": "markdown",
   "metadata": {},
   "source": [
    "#### Greedy mode"
   ]
  },
  {
   "cell_type": "code",
   "execution_count": 5,
   "metadata": {},
   "outputs": [],
   "source": [
    "X_train, X_test, y_train, y_test = train_test_split(data.X, data.y, test_size=0.2, random_state=44)"
   ]
  },
  {
   "cell_type": "code",
   "execution_count": 26,
   "metadata": {},
   "outputs": [],
   "source": [
    "classifiers = [  \n",
    "    LogisticRegression(),\n",
    "    SVC(probability=True),\n",
    "    KNeighborsClassifier(),\n",
    "    DecisionTreeClassifier()\n",
    "\n",
    "]\n",
    "\n",
    "estimator_generator = PredefinedEstimatorsGenerator(classifiers)\n",
    "prediction_generator = FixedThresholdPredictionGenerator(0.5)\n",
    "\n",
    "routing_model = LogisticRegression()\n",
    "\n",
    "hellsemble_model = Hellsemble(\n",
    "    estimator_generator=estimator_generator,\n",
    "    prediction_generator=prediction_generator,\n",
    "    routing_model=routing_model,\n",
    "    metric = 'roc_auc'\n",
    ")"
   ]
  },
  {
   "cell_type": "code",
   "execution_count": null,
   "metadata": {},
   "outputs": [],
   "source": [
    "hellsemble_model.fit(X_train, y_train)"
   ]
  },
  {
   "cell_type": "code",
   "execution_count": null,
   "metadata": {},
   "outputs": [],
   "source": [
    "y_pred = hellsemble_model.predict(X_test)\n",
    "print(accuracy_score(y_test, y_pred))\n",
    "print(hellsemble_model.evaluate_hellsemble(X_test, y_test))"
   ]
  },
  {
   "cell_type": "markdown",
   "metadata": {},
   "source": [
    "#### Sequential mode"
   ]
  },
  {
   "cell_type": "code",
   "execution_count": 19,
   "metadata": {},
   "outputs": [],
   "source": [
    "X, y = make_classification(n_samples=1000, flip_y=0.2, random_state=123)"
   ]
  },
  {
   "cell_type": "code",
   "execution_count": null,
   "metadata": {},
   "outputs": [],
   "source": [
    "estimator = Hellsemble(\n",
    "    PredefinedEstimatorsGenerator(\n",
    "        [LogisticRegression(), LogisticRegression()]\n",
    "    ),\n",
    "    FixedThresholdPredictionGenerator(0.5),\n",
    "    LogisticRegression(),\n",
    "    mode='Sequential'\n",
    ")\n",
    "model = estimator.fit(X, y)\n",
    "model"
   ]
  },
  {
   "cell_type": "code",
   "execution_count": null,
   "metadata": {},
   "outputs": [],
   "source": [
    "model.predict_proba(X)"
   ]
  },
  {
   "cell_type": "code",
   "execution_count": 22,
   "metadata": {},
   "outputs": [],
   "source": [
    "y_pred = model.predict(X)"
   ]
  },
  {
   "cell_type": "code",
   "execution_count": 23,
   "metadata": {},
   "outputs": [],
   "source": [
    "y_pred = y_pred.astype(bool)"
   ]
  },
  {
   "cell_type": "code",
   "execution_count": null,
   "metadata": {},
   "outputs": [],
   "source": [
    "from sklearn.metrics import accuracy_score\n",
    "accuracy_score(y, y_pred)"
   ]
  }
 ],
 "metadata": {
  "kernelspec": {
   "display_name": ".venv",
   "language": "python",
   "name": "python3"
  },
  "language_info": {
   "codemirror_mode": {
    "name": "ipython",
    "version": 3
   },
   "file_extension": ".py",
   "mimetype": "text/x-python",
   "name": "python",
   "nbconvert_exporter": "python",
   "pygments_lexer": "ipython3",
   "version": "3.12.7"
  }
 },
 "nbformat": 4,
 "nbformat_minor": 2
}
